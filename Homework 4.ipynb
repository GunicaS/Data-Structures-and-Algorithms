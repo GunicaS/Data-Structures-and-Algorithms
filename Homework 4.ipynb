{
 "cells": [
  {
   "cell_type": "markdown",
   "id": "b6207437",
   "metadata": {},
   "source": [
    "# Homework 4"
   ]
  },
  {
   "cell_type": "code",
   "execution_count": null,
   "id": "94462709",
   "metadata": {},
   "outputs": [],
   "source": [
    "\n",
    "\"\"\"\n",
    "Problem 1\n",
    "\"\"\"\n",
    "def smallest(plist):\n",
    "    if len(plist) == 1:\n",
    "        return plist[0]\n",
    "    else:\n",
    "        return min(plist[0], smallest(plist[1:]))\n",
    "\n",
    "\n",
    "\"\"\"\n",
    "Problem 2 (linear version)\n",
    "\"\"\"\n",
    "def linearSearchValueIndexEqual(plist):\n",
    "    startindex = plist[0]\n",
    "    if startindex == len(plist):\n",
    "        return []\n",
    "    matches = []\n",
    "    if plist[startindex] == startindex:\n",
    "        matches.append[startindex]\n",
    "    return matches + linearSearchValueIndexEqual(plist, startindex + 1)\n",
    "\n",
    "\n",
    "\n",
    "\"\"\"\n",
    "Problem 2 (binary version)\n",
    "\"\"\"\n",
    "def binarySearchValueIndexEqual(plist):\n",
    "    return\n",
    "\n",
    "\n",
    "\"\"\"\n",
    "Problem 3 (ladder)\n",
    "\"\"\"\n",
    "\n",
    "def ladder(rungs):\n",
    "    return"
   ]
  }
 ],
 "metadata": {
  "language_info": {
   "name": "python"
  }
 },
 "nbformat": 4,
 "nbformat_minor": 5
}
