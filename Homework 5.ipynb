{
 "cells": [
  {
   "cell_type": "markdown",
   "id": "0aca6275",
   "metadata": {},
   "source": [
    "# Homework 5"
   ]
  },
  {
   "cell_type": "code",
   "execution_count": null,
   "id": "de9d98d3",
   "metadata": {},
   "outputs": [],
   "source": [
    "from collections import *\n",
    "\n",
    "\"\"\"\n",
    "1. Tests whether the letters in a string can be permuted to form a palindrome.\n",
    "\"\"\"\n",
    "def canFormPalindrome(s):\n",
    "    character = {} #define the dictionary\n",
    "\n",
    "    for letter in s: #for each letter in the input string\n",
    "        if letter in character: #if the letter is in the dictionary\n",
    "            character[letter] += 1 #if the character is already in the dictionary increments by 1\n",
    "        else:\n",
    "            character[letter] = 1 #else adds to count\n",
    "    oddfrequency = 0 #add an odd frequency variable which will keep track of the number of strings with odd frequencies \n",
    "\n",
    "    for count in character.values(): #goes through the values in dictionary\n",
    "        if count % 2 != 0: #checks if the count is odd \n",
    "            oddfrequency += 1 #if it is the count is put up by 1 \n",
    "        if oddfrequency > 1: #since the odd letter frequency can only be 1 for a palindrome automatically becomes false \n",
    "            return False #so only 1 character can happen an odd number of times more than 1 times = false\n",
    "        \n",
    "    return True #if not false then rest has to be true\n",
    "\n",
    "\n",
    "\"\"\"\n",
    "2. Determines if it is possible to write an anonymous letter using a book.\n",
    "\"\"\"\n",
    "def anonymousLetter(book, letter):\n",
    "    dictionary = {} #defined a dictionary \n",
    "\n",
    "    for character in book: #split the characters in the book input\n",
    "        if character in dictionary: #if the character is in the dictionary\n",
    "            dictionary[character] += 1 # the count is incremented by one\n",
    "        else:\n",
    "            dictionary[character] = 1 #if the character is not in the dictionary the count becomes 1\n",
    "\n",
    "\n",
    "    for character in letter: #splits the characters in the letter input\n",
    "        if character not in dictionary or dictionary[character] == 0: #if the character is not in the dictionary or if the count of it is 0 then does not match so false\n",
    "            return False\n",
    "         \n",
    "        else:\n",
    "            dictionary[character] -= 1  #if the character is in the dictionary its decremented by 1\n",
    "\n",
    "    return True  #true is returned once everything is looped through "
   ]
  }
 ],
 "metadata": {
  "language_info": {
   "name": "python"
  }
 },
 "nbformat": 4,
 "nbformat_minor": 5
}
