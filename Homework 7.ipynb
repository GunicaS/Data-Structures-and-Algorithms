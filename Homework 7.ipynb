{
 "cells": [
  {
   "cell_type": "markdown",
   "id": "cd47828d",
   "metadata": {},
   "source": [
    "# Homework 7"
   ]
  },
  {
   "cell_type": "code",
   "execution_count": null,
   "id": "09fa911a",
   "metadata": {},
   "outputs": [],
   "source": [
    "\"\"\"\n",
    "1. Top k Frequent Elements\n",
    "\"\"\"\n",
    "import heapq #imports the heap queue implimentation\n",
    "from collections import Counter #imports counter which which counts the frequency of elements in a list\n",
    "def kFrequent(nums, k): \n",
    "    counter = Counter(nums) #counter counts the number of times each element occurs\n",
    "    heap = [(-count, num) for num, count in counter.items()] #list is created by making tuples where each tuple has 2 elements the negative count of the element so min heap and the element itself. \n",
    "    # it loops through the counter items which has the elements and the counts \n",
    "\n",
    "    heapq.heapify(heap) #converts the heap into a heap data structure \n",
    "\n",
    "    result = [] #a list for the most frequent elements is created\n",
    "\n",
    "    for i in range(min(k, len(heap))): #a loop is made which will iterate a min of k times with relation to the lenght of the heap\n",
    "        result.append(heapq.heappop(heap)[1]) #pops the smallest element from the heap and appends to the second element retreving the most frequent elements one by one\n",
    "    return result #returns the list containing the most frequent elements \n",
    "\n",
    "\n",
    "\n",
    "\n",
    "\"\"\"\n",
    "2. All paths from one vertex to another in DAG\n",
    "\"\"\"\n",
    "from collections import defaultdict #imports defaultdict\n",
    "def allPaths(edges, source, destination): \n",
    "    graph = defaultdict(list) #a graph is defined where the default value is an empty list \n",
    "    for a,b in edges: #this loop iterates through the edges adds b to the list and a to the graph\n",
    "        graph[a].append(b)\n",
    "    \n",
    "    s = [] #new stack initalized \n",
    "    s.append((source,[source])) #appends a tuple with the source node and a list containing the source node itself\n",
    "    paths = [] #list called path initalized\n",
    "\n",
    "    while s: #while loop continues till stack is empty\n",
    "        curr,path = s.pop() #pops a tuple from the top of the stack\n",
    "        if curr == destination: #if the current node equals the desitnation \n",
    "            paths.append(path) #path is appended to the list of paths\n",
    "        else: #otherwise\n",
    "            for n in graph[curr]: #for each neightbor of the current node\n",
    "                if n not in path: #if n is not in the path \n",
    "                    s.append((n, path + [n])) #extends the current path to its neihbor and appends it to the stack \n",
    "    return paths #returns the list of paths"
   ]
  }
 ],
 "metadata": {
  "language_info": {
   "name": "python"
  }
 },
 "nbformat": 4,
 "nbformat_minor": 5
}
